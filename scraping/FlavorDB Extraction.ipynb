{
 "cells": [
  {
   "cell_type": "code",
   "execution_count": 1,
   "id": "8077ddbc",
   "metadata": {},
   "outputs": [],
   "source": [
    "from IPython.core.interactiveshell import InteractiveShell\n",
    "InteractiveShell.ast_node_interactivity = 'all'"
   ]
  },
  {
   "cell_type": "code",
   "execution_count": 54,
   "id": "9118f855",
   "metadata": {},
   "outputs": [],
   "source": [
    "import pandas as pd\n",
    "import numpy as np\n",
    "import os\n",
    "import time\n",
    "from bs4 import BeautifulSoup\n",
    "from selenium import webdriver\n",
    "from selenium.webdriver.chrome.options import Options\n",
    "from selenium.webdriver.common.keys import Keys\n",
    "from selenium.webdriver.common.by import By\n",
    "import urllib\n",
    "import requests\n",
    "from PIL import Image\n",
    "import re\n",
    "from io import BytesIO\n",
    "import base64\n",
    "import cv2\n",
    "from PIL import Image, ImageEnhance, ImageFilter\n",
    "import html5lib\n",
    "import lxml\n",
    "from selenium.webdriver import ActionChains\n",
    "from selenium.webdriver.common.keys import Keys\n",
    "from selenium.webdriver.support import expected_conditions as EC\n",
    "from selenium.webdriver.common.by import By\n",
    "from selenium.webdriver.support.ui import WebDriverWait\n",
    "from selenium import webdriver\n",
    "from selenium.common.exceptions import TimeoutException\n",
    "from time import sleep\n",
    "import random\n",
    "from selenium.webdriver.support.ui import Select\n",
    "import collections"
   ]
  },
  {
   "cell_type": "code",
   "execution_count": null,
   "id": "2a6b8847",
   "metadata": {},
   "outputs": [],
   "source": [
    "def getFlavoredData(pg_list, base_website, load_time, class_directory):\n",
    "    flavor_df = collections.defaultdict(list)\n",
    "    \n",
    "    for pg in pg_list:\n",
    "        website = base_website.replace(\"X\", str(pg))\n",
    "        driver.get(website)\n",
    "        sleep(load_time)\n",
    "        food_title = driver.find_element_by_class_name(class_directory[\"food_name_class\"])\n",
    "        entry_input = Select(driver.find_element_by_name(\"matching_entities_length\"))\n",
    "        entry_input.select_by_value(\"100\")\n",
    "        similar_foods = driver.find_elements_by_tag_name(\"tr\")\n",
    "        similar_foods = [food.text for food in similar_foods][-99:]\n",
    "        flavor_df[food_title].extend(similar_foods)"
   ]
  },
  {
   "cell_type": "code",
   "execution_count": 59,
   "id": "60ae0fa7",
   "metadata": {},
   "outputs": [],
   "source": [
    "chromedriver_path = r\"D:\\Personal Projects\\IP Data Extraction\\chromedriver.exe\"\n",
    "flavor_db_website = \"https://cosylab.iiitd.edu.in/flavordb/food_pairing?id=X\"\n",
    "output_path = r\"D:\\College Work\\DSCI 558 - Knowledge Graphs\\Project\\Output\\Scraped Data\\Flavor DB\""
   ]
  },
  {
   "cell_type": "code",
   "execution_count": 66,
   "id": "965f5faa",
   "metadata": {},
   "outputs": [],
   "source": [
    "food_name_class = \"text-capitalize\"\n",
    "entity_class_name = \"pair text-capitalize\"\n",
    "shared_flavor_class = \"dt-center sorting_1\"\n",
    "class_directory = {\"food_name_class\": food_name_class}"
   ]
  },
  {
   "cell_type": "code",
   "execution_count": 60,
   "id": "05c38c6f",
   "metadata": {},
   "outputs": [],
   "source": [
    "load_time = 8\n",
    "number_of_pages = list(range(1,973))"
   ]
  },
  {
   "cell_type": "code",
   "execution_count": 63,
   "id": "b6f5777c",
   "metadata": {},
   "outputs": [],
   "source": [
    "driver = webdriver.Chrome(executable_path=chromedriver_path)"
   ]
  },
  {
   "cell_type": "code",
   "execution_count": 119,
   "id": "dca49999",
   "metadata": {},
   "outputs": [],
   "source": [
    "for pg in number_of_pages:\n",
    "    website = flavor_db_website.replace(\"X\", str(pg))\n",
    "    driver.get(website)\n",
    "    sleep(load_time)\n",
    "    try:\n",
    "        food_title = driver.find_element_by_class_name(class_directory[\"food_name_class\"]).text\n",
    "        entry_input = Select(driver.find_element_by_name(\"matching_entities_length\"))\n",
    "        entry_input.select_by_value(\"100\")\n",
    "        similar_foods = driver.find_elements_by_tag_name(\"tr\")\n",
    "        similar_foods = [food.text for food in similar_foods][-99:]\n",
    "        flavor_df[food_title].extend(similar_foods)\n",
    "    except:\n",
    "        continue"
   ]
  },
  {
   "cell_type": "code",
   "execution_count": 124,
   "id": "a7c856b0",
   "metadata": {},
   "outputs": [],
   "source": [
    "foods_df = pd.DataFrame()\n",
    "for food in flavor_df.keys():\n",
    "    intermediate_df = pd.DataFrame(flavor_df[food])\n",
    "    intermediate_df[\"Food\"] = food\n",
    "    foods_df = foods_df.append(intermediate_df, ignore_index=False)\n",
    "    if len(foods_df.columns) == 2:\n",
    "        foods_df.columns = [\"Required Data\", \"Food\"]\n",
    "    elif len(foods_df.columns) == 3:\n",
    "        foods_df.columns = [\"Required Data\", \"Food\", \"rand\"]"
   ]
  },
  {
   "cell_type": "code",
   "execution_count": 127,
   "id": "ceeddee7",
   "metadata": {},
   "outputs": [],
   "source": [
    "os.chdir(r\"D:\\College Work\\DSCI 558 - Knowledge Graphs\\Project\\Output\\Scraped Data\\Flavor DB\")"
   ]
  },
  {
   "cell_type": "code",
   "execution_count": 129,
   "id": "e3b515a6",
   "metadata": {},
   "outputs": [],
   "source": [
    "foods_df.to_excel(\"Flavor DB - Detailed.xlsx\", index = False)"
   ]
  }
 ],
 "metadata": {
  "kernelspec": {
   "display_name": "Python 3 (ipykernel)",
   "language": "python",
   "name": "python3"
  },
  "language_info": {
   "codemirror_mode": {
    "name": "ipython",
    "version": 3
   },
   "file_extension": ".py",
   "mimetype": "text/x-python",
   "name": "python",
   "nbconvert_exporter": "python",
   "pygments_lexer": "ipython3",
   "version": "3.9.7"
  }
 },
 "nbformat": 4,
 "nbformat_minor": 5
}
